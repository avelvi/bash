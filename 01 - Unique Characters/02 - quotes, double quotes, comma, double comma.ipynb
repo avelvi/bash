{
 "cells": [
  {
   "cell_type": "markdown",
   "metadata": {},
   "source": [
    "## quotes, double quotes, comma, double comma\n",
    "\n",
    "### quotes, double quotes"
   ]
  },
  {
   "cell_type": "code",
   "execution_count": 1,
   "metadata": {},
   "outputs": [
    {
     "name": "stdout",
     "output_type": "stream",
     "text": [
      "Simple out # not commented\n",
      "Another out # not commented\n"
     ]
    }
   ],
   "source": [
    "#!/bin/bash\n",
    "\n",
    "echo 'Simple out # not commented'\n",
    "echo \"Another out # not commented\""
   ]
  },
  {
   "cell_type": "code",
   "execution_count": 2,
   "metadata": {},
   "outputs": [
    {
     "name": "stdout",
     "output_type": "stream",
     "text": [
      "Simple out\n",
      "Another out\n"
     ]
    }
   ],
   "source": [
    "#!/bin/bash\n",
    "\n",
    "echo Simple out # commented\n",
    "echo Another out # not commented"
   ]
  },
  {
   "cell_type": "markdown",
   "metadata": {},
   "source": [
    "Using <code>#</code> inside quotes/double quotes will be interpret as string character"
   ]
  },
  {
   "cell_type": "code",
   "execution_count": 3,
   "metadata": {},
   "outputs": [
    {
     "name": "stdout",
     "output_type": "stream",
     "text": [
      "red\n",
      "black\n",
      "white\n"
     ]
    }
   ],
   "source": [
    "#!/bin/bash\n",
    "\n",
    "colors=\"red black white\"\n",
    "\n",
    "for col in $colors\n",
    "do\n",
    "    echo $col\n",
    "done"
   ]
  },
  {
   "cell_type": "markdown",
   "metadata": {},
   "source": [
    "Using <code>$colors</code> without double quotes will split string into array of strings. "
   ]
  },
  {
   "cell_type": "markdown",
   "metadata": {},
   "source": [
    "But if we place variable <code>$colors</code> inside double quotes it will not be splitted:"
   ]
  },
  {
   "cell_type": "code",
   "execution_count": 4,
   "metadata": {},
   "outputs": [
    {
     "name": "stdout",
     "output_type": "stream",
     "text": [
      "red black white\n"
     ]
    }
   ],
   "source": [
    "#!/bin/bash\n",
    "\n",
    "colors=\"red black white\"\n",
    "\n",
    "for col in \"$colors\"\n",
    "do\n",
    "    echo $col\n",
    "done"
   ]
  },
  {
   "cell_type": "markdown",
   "metadata": {},
   "source": [
    "If use single quote (<code>'</code>) inside loop, it will only takes input value as a string, even the value it's a variable name and it will not be splitted:"
   ]
  },
  {
   "cell_type": "code",
   "execution_count": 5,
   "metadata": {},
   "outputs": [
    {
     "name": "stdout",
     "output_type": "stream",
     "text": [
      "$colors\n"
     ]
    }
   ],
   "source": [
    "#!/bin/bash\n",
    "\n",
    "colors=\"red black white\"\n",
    "\n",
    "for col in '$colors'\n",
    "do\n",
    "    echo $col\n",
    "done"
   ]
  },
  {
   "cell_type": "code",
   "execution_count": 6,
   "metadata": {},
   "outputs": [
    {
     "name": "stdout",
     "output_type": "stream",
     "text": [
      "one two three\n"
     ]
    }
   ],
   "source": [
    "#!/bin/bash\n",
    "\n",
    "colors=\"red black white\"\n",
    "\n",
    "for col in 'one two three'\n",
    "do\n",
    "    echo $col\n",
    "done"
   ]
  },
  {
   "cell_type": "markdown",
   "metadata": {},
   "source": [
    "### Comma\n",
    "\n",
    "Comma separator (<code>,</code>) basically links together in series of some sort arithmetical operations:"
   ]
  },
  {
   "cell_type": "code",
   "execution_count": 7,
   "metadata": {},
   "outputs": [
    {
     "name": "stdout",
     "output_type": "stream",
     "text": [
      "20\n",
      "5\n"
     ]
    }
   ],
   "source": [
    "#!/bin/bash\n",
    "\n",
    "let \"y=((x=20, 10/2))\"\n",
    "\n",
    "echo $x\n",
    "echo $y"
   ]
  },
  {
   "cell_type": "markdown",
   "metadata": {},
   "source": [
    "Or it can be used to transform first letter in the string to lowercase:"
   ]
  },
  {
   "cell_type": "code",
   "execution_count": 8,
   "metadata": {},
   "outputs": [
    {
     "name": "stdout",
     "output_type": "stream",
     "text": [
      "soMeTestStRing\n"
     ]
    }
   ],
   "source": [
    "#!/bin/bash\n",
    "\n",
    "var=\"SoMeTestStRing\"\n",
    "\n",
    "echo ${var,}"
   ]
  },
  {
   "cell_type": "markdown",
   "metadata": {},
   "source": [
    "### double comma\n",
    "\n",
    "Double comma (<code>,,</code>) uses to change the case of the string, stored in the variable to lower case (allowed in bash version 4):"
   ]
  },
  {
   "cell_type": "code",
   "execution_count": 9,
   "metadata": {},
   "outputs": [
    {
     "name": "stdout",
     "output_type": "stream",
     "text": [
      "someteststring\n"
     ]
    }
   ],
   "source": [
    "#!/bin/bash\n",
    "\n",
    "var=\"SoMeTestStRing\"\n",
    "\n",
    "echo ${var,,}"
   ]
  },
  {
   "cell_type": "markdown",
   "metadata": {},
   "source": [
    "More examples:"
   ]
  },
  {
   "cell_type": "code",
   "execution_count": 10,
   "metadata": {},
   "outputs": [
    {
     "name": "stdout",
     "output_type": "stream",
     "text": [
      "SOmeTestStRing\n",
      "SOMETESTSTRING\n",
      "SoMEtESTsTrING\n"
     ]
    }
   ],
   "source": [
    "#!/bin/bash\n",
    "\n",
    "var=\"sOmeTestStRing\"\n",
    "\n",
    "echo ${var^} # first letter to uppercase\n",
    "echo ${var^^} # all to uppercase\n",
    "echo ${var~~} # swap upper-lower and lowwer-upper"
   ]
  },
  {
   "cell_type": "code",
   "execution_count": null,
   "metadata": {},
   "outputs": [],
   "source": []
  }
 ],
 "metadata": {
  "kernelspec": {
   "display_name": "Bash",
   "language": "bash",
   "name": "bash"
  },
  "language_info": {
   "codemirror_mode": "shell",
   "file_extension": ".sh",
   "mimetype": "text/x-sh",
   "name": "bash"
  }
 },
 "nbformat": 4,
 "nbformat_minor": 2
}
