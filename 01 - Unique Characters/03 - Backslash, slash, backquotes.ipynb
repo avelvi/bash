{
 "cells": [
  {
   "cell_type": "markdown",
   "metadata": {},
   "source": [
    "## Backslash, slash, backquotes\n",
    "\n",
    "### Backslash\n",
    "\n",
    "Escape characters are used to remove the special meaning from a single character. A non-quoted backslash, <code>\\</code>, is used as an escape character in Bash:"
   ]
  },
  {
   "cell_type": "code",
   "execution_count": 1,
   "metadata": {},
   "outputs": [
    {
     "name": "stdout",
     "output_type": "stream",
     "text": [
      "Some string\n",
      "Some string\n",
      "\"Some string\"\n"
     ]
    }
   ],
   "source": [
    "#!/bin/bash\n",
    "\n",
    "echo \"Some string\"\n",
    "echo \"\"Some string\"\"\n",
    "echo \"\\\"Some string\\\"\""
   ]
  },
  {
   "cell_type": "code",
   "execution_count": 2,
   "metadata": {},
   "outputs": [
    {
     "name": "stdout",
     "output_type": "stream",
     "text": [
      "00\n",
      "$200\n",
      "$money2\n"
     ]
    }
   ],
   "source": [
    "#!/bin/bash\n",
    "\n",
    "money=$100\n",
    "echo $money\n",
    "\n",
    "\n",
    "money2=\\$200\n",
    "echo $money2\n",
    "\n",
    "echo \\$money2"
   ]
  },
  {
   "cell_type": "markdown",
   "metadata": {},
   "source": [
    "### Slash\n",
    "\n",
    "In general slash<code>/</code> is the top of filesystem:\n",
    "\n",
    "<code>cd /</code> will navigate you to the top of filesystem\n",
    "\n",
    "But in BASH it also used in order to divide two numbers"
   ]
  },
  {
   "cell_type": "code",
   "execution_count": 3,
   "metadata": {},
   "outputs": [
    {
     "name": "stdout",
     "output_type": "stream",
     "text": [
      "50\n"
     ]
    }
   ],
   "source": [
    "#!/bin/bash\n",
    "\n",
    "let val=100/2\n",
    "\n",
    "echo $val"
   ]
  },
  {
   "cell_type": "markdown",
   "metadata": {},
   "source": [
    "### Backquotes\n",
    "\n",
    "Backquotes <code>``</code> uses for wrapping the command which need to be executed:"
   ]
  },
  {
   "cell_type": "code",
   "execution_count": 4,
   "metadata": {},
   "outputs": [
    {
     "name": "stdout",
     "output_type": "stream",
     "text": [
      "50\n"
     ]
    }
   ],
   "source": [
    "#!/bin/bash\n",
    "\n",
    "let val=100/2\n",
    "\n",
    "val2=`echo $val`\n",
    "\n",
    "echo $val2\n"
   ]
  },
  {
   "cell_type": "code",
   "execution_count": null,
   "metadata": {},
   "outputs": [],
   "source": []
  }
 ],
 "metadata": {
  "kernelspec": {
   "display_name": "Bash",
   "language": "bash",
   "name": "bash"
  },
  "language_info": {
   "codemirror_mode": "shell",
   "file_extension": ".sh",
   "mimetype": "text/x-sh",
   "name": "bash"
  }
 },
 "nbformat": 4,
 "nbformat_minor": 2
}
